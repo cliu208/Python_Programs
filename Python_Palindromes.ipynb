{
  "nbformat": 4,
  "nbformat_minor": 0,
  "metadata": {
    "colab": {
      "name": "Python_Palindromes",
      "provenance": [],
      "authorship_tag": "ABX9TyNpv78eQFgBJd7LXWvC/MdM",
      "include_colab_link": true
    },
    "kernelspec": {
      "name": "python3",
      "display_name": "Python 3"
    },
    "language_info": {
      "name": "python"
    }
  },
  "cells": [
    {
      "cell_type": "markdown",
      "metadata": {
        "id": "view-in-github",
        "colab_type": "text"
      },
      "source": [
        "<a href=\"https://colab.research.google.com/github/cliu208/Python_Programs/blob/main/Python_Palindromes.ipynb\" target=\"_parent\"><img src=\"https://colab.research.google.com/assets/colab-badge.svg\" alt=\"Open In Colab\"/></a>"
      ]
    },
    {
      "cell_type": "markdown",
      "source": [
        "**Python Program for Palindromes**\n",
        "\n",
        "*Coded by Cynthia Liu*"
      ],
      "metadata": {
        "id": "r809O-tHtjNB"
      }
    },
    {
      "cell_type": "code",
      "execution_count": 3,
      "metadata": {
        "id": "bsFiQMWYr2V-"
      },
      "outputs": [],
      "source": [
        "# setting variable \n",
        "example = \" \" # empty string"
      ]
    },
    {
      "cell_type": "code",
      "source": [
        "# use while loop\n",
        "while True:\n",
        "    # user input\n",
        "    example = input(\"\\nPlease enter a word or phrase, or <return> to quit: \")\n",
        "    # if no user input then end the program\n",
        "    if not example:\n",
        "        break\n",
        "    # format user input for program\n",
        "    example = example.lower() # user input to be case insensitive\n",
        "    example = example.replace(\",\",\"\") # remove commas from user input\n",
        "    example = example.replace(\" \",\"\") # remove spaces from user input\n",
        "    example = example.replace(\"'\",\"\") # remove apostrophes from user input\n",
        "    # reversing the order of the str input at the beginning of loop \n",
        "    reverse = example[::-1]\n",
        "    # if the reverse matches the original input then successful palindrome\n",
        "    if reverse == example:\n",
        "        print(\"You entered a palindrome!\")\n",
        "    # if it does not match the original input then not a palindrome\n",
        "    else:\n",
        "        print(\"Not a palindrome!\")"
      ],
      "metadata": {
        "colab": {
          "base_uri": "https://localhost:8080/"
        },
        "id": "7X6U_I3ztuTm",
        "outputId": "361021c4-3c97-4d9c-a6a8-2526ce24c3b1"
      },
      "execution_count": 4,
      "outputs": [
        {
          "name": "stdout",
          "output_type": "stream",
          "text": [
            "\n",
            "Please enter a word or phrase, or <return> to quit: yay\n",
            "You entered a palindrome!\n",
            "\n",
            "Please enter a word or phrase, or <return> to quit: no\n",
            "Not a palindrome!\n",
            "\n",
            "Please enter a word or phrase, or <return> to quit: why\n",
            "Not a palindrome!\n",
            "\n",
            "Please enter a word or phrase, or <return> to quit: hello\n",
            "Not a palindrome!\n",
            "\n",
            "Please enter a word or phrase, or <return> to quit: racecar\n",
            "You entered a palindrome!\n",
            "\n",
            "Please enter a word or phrase, or <return> to quit: \n"
          ]
        }
      ]
    }
  ]
}